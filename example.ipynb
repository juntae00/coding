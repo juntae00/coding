{
 "cells": [
  {
   "cell_type": "code",
   "execution_count": 22,
   "id": "172622b8",
   "metadata": {},
   "outputs": [
    {
     "name": "stdout",
     "output_type": "stream",
     "text": [
      "n을 입력하시오 : 5\n",
      "\n",
      "  1  2  3  4  5\n",
      " 10  9  8  7  6\n",
      " 11 12 13 14 15\n",
      " 20 19 18 17 16\n",
      " 21 22 23 24 25"
     ]
    }
   ],
   "source": [
    "A = int(input(\"n을 입력하시오 : \"))\n",
    "D = [x for x in range(1, A * A + 1)] \n",
    "S = \"\"\n",
    " \n",
    "for i in range(0, A) : \n",
    "    print(\"\")\n",
    " \n",
    "    \n",
    "    if i % 2 == 0 :\n",
    "        \n",
    "        S = D[ (i * A) : (i * A) + A ]\n",
    "        for t in range (0, len(S)) :\n",
    "            print('{0:3d}'.format(S[t]), end = \"\")\n",
    " \n",
    "    \n",
    "    else :\n",
    "        \n",
    "        S = D[ (i * A) + (A-1) : (i * A) - 1 : -1 ]\n",
    "        for t in range (0, len(S)) :\n",
    "            print('{0:3d}'.format(S[t]), end = \"\")"
   ]
  },
  {
   "cell_type": "code",
   "execution_count": 13,
   "id": "238a364e",
   "metadata": {},
   "outputs": [
    {
     "name": "stdout",
     "output_type": "stream",
     "text": [
      "Python\n",
      "is\n",
      "FUN!\n",
      "Python\n",
      "is\n",
      "FUN!\n",
      "Python\n",
      "is\n",
      "FUN!\n"
     ]
    }
   ],
   "source": [
    "for i in range(3):\n",
    "    print('Python')\n",
    "    print('is')\n",
    "    print('FUN!')"
   ]
  },
  {
   "cell_type": "code",
   "execution_count": 21,
   "id": "601cb446",
   "metadata": {},
   "outputs": [
    {
     "name": "stdout",
     "output_type": "stream",
     "text": [
      "Python\n",
      "is\n",
      "Python\n",
      "is\n",
      "Python\n",
      "is\n",
      "FUN!\n"
     ]
    }
   ],
   "source": [
    "for i in range(3):\n",
    "    print('Python')\n",
    "    print('is')\n",
    "print('FUN!')"
   ]
  },
  {
   "cell_type": "code",
   "execution_count": 28,
   "id": "a5084e25",
   "metadata": {},
   "outputs": [
    {
     "name": "stdout",
     "output_type": "stream",
     "text": [
      "9 12 4\n",
      "12, 9, 4\n"
     ]
    }
   ],
   "source": [
    "a,b,c = map(int,input().split())\n",
    "\n",
    "if a > b:\n",
    "    if a > c:\n",
    "        if b > c:\n",
    "            print('{}, {}, {}'.format(a, b, c))\n",
    "        else:\n",
    "            print('{}, {}, {}'.format(a, c, b))\n",
    "    else:\n",
    "        print('{}, {}, {}'.format(c, a, b))\n",
    "else:\n",
    "    if b > c:\n",
    "        if a > c:\n",
    "            print('{}, {}, {}'.format(b, a, c))\n",
    "        else:\n",
    "            print('{}, {}, {}'.format(b, c, a))\n",
    "    else:\n",
    "        print('{}, {}, {}'.format(c, b, a))"
   ]
  },
  {
   "cell_type": "code",
   "execution_count": 1,
   "id": "454f95f1",
   "metadata": {},
   "outputs": [
    {
     "name": "stdout",
     "output_type": "stream",
     "text": [
      "양의 정수를 입력하시오5\n",
      "5은 소수 입니다\n"
     ]
    }
   ],
   "source": [
    "num=int(input('양의 정수를 입력하시오'))\n",
    "\n",
    "\n",
    "for i in range(2,num):\n",
    "    if num%i==0:\n",
    "        print(f'{num}은 소수가 아닙니다')\n",
    "        break\n",
    "    if i==num-1:\n",
    "        print(f'{num}은 소수 입니다')"
   ]
  },
  {
   "cell_type": "code",
   "execution_count": 2,
   "id": "73114a68",
   "metadata": {},
   "outputs": [
    {
     "name": "stdout",
     "output_type": "stream",
     "text": [
      "첫번째 정수를 입력하시오4\n",
      "두번째 정수를 입력하시오9\n",
      "세번째 정수를 입력하시오12\n",
      "12>9>4\n"
     ]
    }
   ],
   "source": [
    "num=int(input('첫번째 정수를 입력하시오'))\n",
    "num1=int(input('두번째 정수를 입력하시오'))\n",
    "num2=int(input('세번째 정수를 입력하시오'))\n",
    "\n",
    "if(num>num1 and  num1>num2):\n",
    "    print(f'{num}>{num1}>{num2}')\n",
    "if(num>num1 and num2>num1):\n",
    "    print(f'{num}>{num2}>{num1}')\n",
    "if(num1>num and num>num2):\n",
    "    print(f'{num1}>{num}>{num2}')\n",
    "if(num1>num2 and num2>num):\n",
    "    print(f'{num1}>{num2}>{num}')\n",
    "if(num2>num and  num>num1):\n",
    "    print(f'{num2}>{num}>{num1}')\n",
    "if(num2>num1 and num1>num):\n",
    "    print(f'{num2}>{num1}>{num}')"
   ]
  },
  {
   "cell_type": "code",
   "execution_count": 3,
   "id": "7848f849",
   "metadata": {},
   "outputs": [
    {
     "name": "stdout",
     "output_type": "stream",
     "text": [
      "x좌표를 입력하시오2\n",
      "y좌표를 입력하시오4\n",
      "1사분면 입니다\n"
     ]
    }
   ],
   "source": [
    "x=int(input('x좌표를 입력하시오'))\n",
    "y=int(input('y좌표를 입력하시오'))\n",
    "\n",
    "if(x>0 and y>0):\n",
    "    print('1사분면 입니다')\n",
    "if(x<0 and y>0):\n",
    "    print('2사분면 입니다')\n",
    "if(x<0 and y<0):\n",
    "    print('3사분면 입니다')\n",
    "if(x>0 and y<0):\n",
    "    print('4사분면 입니다')"
   ]
  },
  {
   "cell_type": "code",
   "execution_count": null,
   "id": "f3db0816",
   "metadata": {},
   "outputs": [],
   "source": []
  }
 ],
 "metadata": {
  "kernelspec": {
   "display_name": "Python 3 (ipykernel)",
   "language": "python",
   "name": "python3"
  },
  "language_info": {
   "codemirror_mode": {
    "name": "ipython",
    "version": 3
   },
   "file_extension": ".py",
   "mimetype": "text/x-python",
   "name": "python",
   "nbconvert_exporter": "python",
   "pygments_lexer": "ipython3",
   "version": "3.9.12"
  }
 },
 "nbformat": 4,
 "nbformat_minor": 5
}
