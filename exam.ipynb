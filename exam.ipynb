{
 "cells": [
  {
   "cell_type": "code",
   "execution_count": 7,
   "id": "ae0e4e96",
   "metadata": {},
   "outputs": [
    {
     "name": "stdout",
     "output_type": "stream",
     "text": [
      "섭씨  화씨\n",
      "0 32.0\n",
      "5 41.0\n",
      "10 50.0\n",
      "15 59.0\n",
      "20 68.0\n",
      "25 77.0\n"
     ]
    }
   ],
   "source": [
    "print('섭씨 ', '화씨')\n",
    " \n",
    "celsius = 0\n",
    "fahrenheit = (9/5) * celsius + 32\n",
    "print(celsius, fahrenheit)\n",
    " \n",
    "celsius = 5\n",
    "fahrenheit = (9/5) * celsius + 32\n",
    "print(celsius, fahrenheit)\n",
    " \n",
    "celsius = 10\n",
    "fahrenheit = (9/5) * celsius + 32\n",
    "print(celsius, fahrenheit)\n",
    " \n",
    "celsius = 15\n",
    "fahrenheit = (9/5) * celsius + 32\n",
    "print(celsius, fahrenheit)\n",
    " \n",
    "celsius = 20\n",
    "fahrenheit = (9/5) * celsius + 32\n",
    "print(celsius, fahrenheit)\n",
    " \n",
    "celsius = 25\n",
    "fahrenheit = (9/5) * celsius + 32\n",
    "print(celsius, fahrenheit)"
   ]
  },
  {
   "cell_type": "code",
   "execution_count": 8,
   "id": "23ab6da1",
   "metadata": {},
   "outputs": [
    {
     "name": "stdout",
     "output_type": "stream",
     "text": [
      "2 3\n"
     ]
    }
   ],
   "source": [
    "a = 2*2//2\n",
    "b = 3//2*3\n",
    "print(a,b)\n"
   ]
  },
  {
   "cell_type": "code",
   "execution_count": 9,
   "id": "67d5356f",
   "metadata": {},
   "outputs": [
    {
     "name": "stdout",
     "output_type": "stream",
     "text": [
      "233168\n"
     ]
    }
   ],
   "source": [
    "result = 0\n",
    "for n in range(1, 1000):\n",
    "    if n % 3 == 0 or n % 5 == 0: \n",
    "        result += n\n",
    "print(result)"
   ]
  },
  {
   "cell_type": "code",
   "execution_count": null,
   "id": "62e20d05",
   "metadata": {},
   "outputs": [],
   "source": []
  }
 ],
 "metadata": {
  "kernelspec": {
   "display_name": "Python 3 (ipykernel)",
   "language": "python",
   "name": "python3"
  },
  "language_info": {
   "codemirror_mode": {
    "name": "ipython",
    "version": 3
   },
   "file_extension": ".py",
   "mimetype": "text/x-python",
   "name": "python",
   "nbconvert_exporter": "python",
   "pygments_lexer": "ipython3",
   "version": "3.9.12"
  }
 },
 "nbformat": 4,
 "nbformat_minor": 5
}
